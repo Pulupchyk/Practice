{
  "nbformat": 4,
  "nbformat_minor": 0,
  "metadata": {
    "colab": {
      "name": "Practice_14_KM_01.ipynb",
      "provenance": [],
      "collapsed_sections": []
    },
    "kernelspec": {
      "name": "python3",
      "display_name": "Python 3.8.6 64-bit",
      "metadata": {
        "interpreter": {
          "hash": "9ce43836c8d3287a06e199a1efd6974587c1d8c7cdf961feda0708cd09e2869c"
        }
      }
    }
  },
  "cells": [
    {
      "cell_type": "markdown",
      "metadata": {
        "id": "FMqboNwO4rVs"
      },
      "source": [
        "# **Курс \"Програмування на мові Python\"**\n",
        "\n",
        "##### Викладачі:\n",
        "##### Борисенко Павло Борисович\n",
        "##### Щьоголєв Максим Олегович\n"
      ]
    },
    {
      "cell_type": "markdown",
      "metadata": {
        "id": "A2T6MigL5Z06"
      },
      "source": [
        "## **Практичне зайняття №14**\n",
        "\n",
        "### Тема: \"Робота з файлами\""
      ]
    },
    {
      "cell_type": "markdown",
      "metadata": {
        "id": "cfCdgK2zXm7e"
      },
      "source": [
        "### **Завдання 1 (1,5 бали)**\n",
        "\n",
        "У 1939 році друком вийшов роман американського письменика Ернеста Вінсента Райта \"Ґедсбі\". Особливу увагу публіки він здобув через те, що письменник жодного разу не використав у романі літеру \"e\" (роман складається з більше ніж 50,000 слів), яка є найбільш вживаною літерою в англійській мові.\n",
        "\n",
        "Порахуйте кількість входжень кожної літери у текст роману. Виведіть список літер англійського алфавіту, а також інформацію про те, скільки відсотків від усіх літер тексту складає кожна літера алфавіту.\n",
        "\n",
        "Зауваження:\n",
        "\n",
        "1. Програма має ігнорувати будь-які символи, окрім літер.\n",
        "\n",
        "2. Переведіть усі літери у верхній або у нижній регістр.\n",
        "\n",
        "3. Під час виведення відсортуйте літери у порядку зменшення їхнього відсотка. Літера \"e\" має стояти на останньому місці у цьому списку.\n",
        "\n",
        "4. Виведіть перші 5 та останні 5 літер відсортованого списку разом з відсотковими значеннями, що їм відповідають."
      ]
    },
    {
      "cell_type": "code",
      "metadata": {
        "tags": [],
        "id": "u4-fHJJ6U462"
      },
      "source": [
        "import string\n",
        "\n",
        "some_list =[]\n",
        "with open(\"gadsby.txt\",\"r\") as file: \n",
        "    for i in file.read():\n",
        "        if i.isalpha():\n",
        "            some_list.append(i.lower())\n",
        "\n",
        "procentum = []\n",
        "for letter in string.ascii_lowercase:\n",
        "    procentum.append(round(some_list.count(letter)/len(some_list)*100,2))\n",
        "\n",
        "an_list = []\n",
        "for i in list(sorted(procentum, reverse = True)):\n",
        "    g = procentum.index(i)\n",
        "    an_list.append(string.ascii_lowercase[g])\n",
        "\n",
        "for i in range(0, 5):\n",
        "    print(\"Відсоток літери\",\"'\"+an_list[i]+\"'\", \"в тексті =\", str(r[i])+\"%\", end=\"\")\n",
        "    print()\n",
        "print()\n",
        "for i in range(-5, 0):\n",
        "    print(\"Відсоток літери\",\"'\"+an_list[i]+\"'\", \"в тексті =\", str(r[i])+\"%\", end=\"\")\n",
        "    print()\n",
        "\n"
      ],
      "execution_count": 101,
      "outputs": [
        {
          "output_type": "stream",
          "name": "stdout",
          "text": [
            "Відсоток літери 'a' в тексті = 10.89%\nВідсоток літери 'o' в тексті = 10.37%\nВідсоток літери 'i' в тексті = 8.79%\nВідсоток літери 'n' в тексті = 8.56%\nВідсоток літери 't' в тексті = 8.53%\n\nВідсоток літери 'e' в тексті = 0.23%\nВідсоток літери 'j' в тексті = 0.22%\nВідсоток літери 'z' в тексті = 0.11%\nВідсоток літери 'x' в тексті = 0.08%\nВідсоток літери 'q' в тексті = 0.05%\n"
          ]
        }
      ]
    },
    {
      "cell_type": "markdown",
      "metadata": {
        "id": "A34oz70eU463"
      },
      "source": [
        "### **Завдання 2 (1,5 бали)**\n",
        "\n",
        "Створіть CSV-файл, що буде містити від 5 до 10 пісень (творів) вашого улюбленого музиканта. Назва файлу - ім'я музиканта (композитора) або назва гурту.\n",
        "\n",
        "1. Обов'язково додайте до файлу рядок з назвами двох колонок (Song, Year) або (Composition, Year).\n",
        "\n",
        "2. Після запису файлу роздрукуйте назву файлу та усі наявні у файлі рядки (включно із заголовками).\n",
        "\n",
        "3. Для запису та зчитування рядків скористайтесь функціями csv.DictWriter() та csv.DictReader()."
      ]
    },
    {
      "cell_type": "code",
      "metadata": {
        "id": "MEJIrG1GU463"
      },
      "source": [
        "import csv\n",
        "\n",
        "print(\"Початок запису в csv файл\")\n",
        "with open(\"Pink_Floyd.csv\", \"w\", newline=\"\") as file:\n",
        "    writer = csv.DictWriter(file, fieldnames=[\"Composition\", \"Year\"])\n",
        "    writer.writeheader()\n",
        "    writer.writerow({\"Composition\":\"Echoes\", \"Year\":\"1971\"})\n",
        "    writer.writerow({\"Composition\":\"Wish You Were Here\", \"Year\":\"1975\"})\n",
        "    writer.writerow({\"Composition\":\"Interstellar Overdrive\", \"Year\":\"1967\"})\n",
        "    writer.writerow({\"Composition\":\"Us And Them\", \"Year\":\"1974\"})\n",
        "    writer.writerow({\"Composition\":\"See Emily Play\", \"Year\":\"1967\"})\n",
        "    writer.writerow({\"Composition\":\"Dogs\", \"Year\":\"1977\"})\n",
        "    writer.writerow({\"Composition\":\"The Great Gig In The Sky\", \"Year\":\"1973\"})\n",
        "    writer.writerow({\"Composition\":\"A Pillow of Winds\", \"Year\":\"1971\"})\n",
        "    file.close()\n",
        "print(\"Кінець запису в csv файл\")"
      ],
      "execution_count": 100,
      "outputs": [
        {
          "output_type": "stream",
          "name": "stdout",
          "text": [
            "Початок запису в csv файл\nКінець запису в csv файл\n"
          ]
        }
      ]
    },
    {
      "cell_type": "markdown",
      "metadata": {
        "id": "Jb-eSBsWU464"
      },
      "source": [
        "### **Завдання 3 (бонусне, 1 бал)**\n",
        "\n",
        "COCO Dataset - набір фотографій та анотацій до них. Його дуже часто використовують для тренування класифікаторів, призначених для розпізнавання об'єктів та визначення ключових точок на зображеннях.\n",
        "\n",
        "Завантажте файли з описом фотографій COCO Dataset за посиланням: http://images.cocodataset.org/annotations/image_info_test2017.zip\n",
        "\n",
        "1. Відкрийте файл image_info_test-dev2017.json. Інформація про фотографії з бази COCO міститься у полі \"images\". Інформація про категорії, на які розділені всі фотографії, міститься у полі \"categories\".\n",
        "\n",
        "2. Визначте кількість фотографій, інформацію про які можна знайти у цьому файлі (кількість елементів, що відповідають ключу \"images\").\n",
        "\n",
        "3. Визначте кількість наявних категорій (кількість елементів, що відповідають ключу \"categories\").\n",
        "\n",
        "4. Виведіть посилання на фотографію 000000000001.jpg (\"coco_url\"), висоту цієї фотографії (\"height\"), ширину (\"width\") та її ідентифікатор (\"id\").\n",
        "\n",
        "5. Опис структури JSON-файлу для набору фотографій COCO можна знайти за посиланням: https://cocodataset.org/#format-data\n",
        "\n",
        "6. Щоб перевірити правильність результатів, у VS Code встановіть розширення JSON та відкрийте файл image_info_test-dev2017.json. Розширення автоматично визначає кількість елементів у кожному полі."
      ]
    },
    {
      "cell_type": "code",
      "metadata": {
        "id": "74C6WKB_U464"
      },
      "source": [],
      "execution_count": null,
      "outputs": []
    }
  ]
}