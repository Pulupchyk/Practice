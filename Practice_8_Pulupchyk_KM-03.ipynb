{
  "nbformat": 4,
  "nbformat_minor": 0,
  "metadata": {
    "colab": {
      "name": "Practice_7_KM-01_.ipynb",
      "provenance": [],
      "collapsed_sections": []
    },
    "kernelspec": {
      "name": "python3",
      "display_name": "Python 3.6.8 64-bit",
      "metadata": {
        "interpreter": {
          "hash": "5033edbe9acdfb95566e8b64ec05d78aac0ec306add80495daef5217314ff01b"
        }
      }
    }
  },
  "cells": [
    {
      "cell_type": "markdown",
      "metadata": {
        "id": "FMqboNwO4rVs"
      },
      "source": [
        "# **Курс \"Програмування на мові Python\"**\n",
        "\n",
        "##### Викладачі:\n",
        "##### Борисенко Павло Борисович\n",
        "##### Щьоголєв Максим Олегович\n"
      ]
    },
    {
      "cell_type": "markdown",
      "metadata": {
        "id": "A2T6MigL5Z06"
      },
      "source": [
        "## **Практичне зайняття №8**\n",
        "\n",
        "### Тема: \"Робота з функціями. Локальні та глобальні змінні\""
      ]
    },
    {
      "cell_type": "markdown",
      "metadata": {
        "id": "cfCdgK2zXm7e"
      },
      "source": [
        "### **Завдання 1 (3 бали)**\n",
        "\n",
        "**Підрахувати визначник матриці, використовуючи перестановки та символ Леві-Чивіти.**\n",
        "\n",
        "Функція random_matrix() призначена для створення квадратної матриці випадкових чисел. Її змінювати непотрібно.\n",
        "\n",
        "Приклад використання методу permutations() для створення списку перестановок також подається у комірці з кодом.\n",
        "\n",
        "1) Створити 3 функції: функцію створення списку перестановок, функцію підрахунку добутків та функцію підрахунку загальної суми.\n",
        "\n",
        "2) Кожна функція має супроводжуватись рядком документації, що буде коротко описувати її призначення.\n",
        "\n",
        "3) Розмірність квадратної матриці має вводитись користувачем з клавіатури. Підрахунки виконувати лише в тому разі, якщо користувач введе ціле додатне число.\n",
        "\n",
        "4) Загальний результат повинен підраховуватись за допомогою композиції функцій.\n",
        "\n",
        "За бажання можна перевірити правильність роботи програми за допомогою функції np.linalg.det(a)."
      ]
    },
    {
      "cell_type": "code",
      "metadata": {
        "id": "ifNX2M7LXm7f",
        "tags": []
      },
      "source": [
        "import numpy as np\n",
        "import itertools \n",
        "\n",
        "def random_matrix(dim):\n",
        "    \"\"\"\n",
        "    The function generates dim x dim array of integers\n",
        "    between 0 and 10.\n",
        "    \"\"\"\n",
        "    matrix = np.random.randint(10, size = (dim, dim))\n",
        "    return matrix\n",
        "def perm_matrix(num):\n",
        "    \"\"\"\n",
        "    The function that finds all permutations\n",
        "    \"\"\"\n",
        "    first_array = np.array([])\n",
        "    second_array = []\n",
        "    for i in range(1, num + 1):\n",
        "        first_array = np.append(first_array, i)\n",
        "    for i in itertools.permutations(first_array):\n",
        "        array = list(i)\n",
        "        second_array.append(array)\n",
        "    array = second_array\n",
        "    return array\n",
        "\n",
        "def multiply(matrix, num, array):\n",
        "    \"\"\"\n",
        "    The function that multiply all elements and add result to an array\n",
        "    \"\"\"\n",
        "    claculation = np.array([])\n",
        "    for i in range(factorial(num)):\n",
        "        an = 1\n",
        "        for j in range(num):\n",
        "           an *= matrix[j][int(array[i][j]) - 1]\n",
        "        an *= ((-1) ** inverse_matrix(array[i]))\n",
        "        claculation = np.append(claculation, an)\n",
        "    return claculation\n",
        "\n",
        "def det(list,num):\n",
        "    \"\"\"\n",
        "    The function that finds sum of multiplying functions\n",
        "    \"\"\"\n",
        "    sum = 0\n",
        "    for i in multiply(matrix, num, perm_matrix(num)):\n",
        "        sum += int(i)\n",
        "    return sum\n",
        "\n",
        "def input_number(message):\n",
        "    \"\"\"\n",
        "    The function that finds if user input right\n",
        "    \"\"\"\n",
        "    while True:\n",
        "        try:\n",
        "            user_num = int(input(message))\n",
        "            if user_num <= 0:\n",
        "                raise ValueError(\"The number must be positive\")\n",
        "            return user_num\n",
        "        except ValueError as ve:\n",
        "            print(ve)\n",
        "\n",
        "def factorial(num):\n",
        "    \"\"\"\n",
        "    The function that finds factorial of a number\n",
        "    \"\"\"\n",
        "    if num == 0:\n",
        "        return 1\n",
        "    return factorial(num - 1) * num\n",
        "\n",
        "def inverse_matrix(list):\n",
        "    \"\"\"\n",
        "    The function that inversing this matrix\n",
        "    \"\"\"\n",
        "    invers = 0\n",
        "    for i in list:\n",
        "        for j in range(list.index(i), len(list)):\n",
        "            if i > list[j]:\n",
        "                invers += 1\n",
        "    return invers\n",
        "# input\n",
        "dim = input_number(\"Input number: \")\n",
        "matrix = random_matrix(dim)\n",
        "result = det(multiply(matrix, dim, perm_matrix(dim)), dim)\n",
        "#print result\n",
        "print(\"Determinant of matrix:\")\n",
        "print(matrix)\n",
        "print(\"Equals:\", result)"
      ],
      "execution_count": 1,
      "outputs": [
        {
          "output_type": "stream",
          "name": "stdout",
          "text": [
            "The number must be positive\n",
            "invalid literal for int() with base 10: 'w'\n",
            "Determinant of matrix:\n",
            "[[1 2 4 6 2]\n",
            " [5 5 7 1 9]\n",
            " [1 8 6 0 0]\n",
            " [1 8 2 8 8]\n",
            " [8 7 9 2 5]]\n",
            "Equals: -15680\n"
          ]
        }
      ]
    },
    {
      "cell_type": "code",
      "execution_count": null,
      "metadata": {},
      "outputs": [],
      "source": []
    }
  ]
}